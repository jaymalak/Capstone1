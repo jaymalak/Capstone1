{
  "nbformat": 4,
  "nbformat_minor": 0,
  "metadata": {
    "colab": {
      "name": "translation_try.ipynb",
      "provenance": [],
      "collapsed_sections": [],
      "authorship_tag": "ABX9TyPhqERIiiOThy8tekQjJEHm",
      "include_colab_link": true
    },
    "kernelspec": {
      "name": "python3",
      "display_name": "Python 3"
    }
  },
  "cells": [
    {
      "cell_type": "markdown",
      "metadata": {
        "id": "view-in-github",
        "colab_type": "text"
      },
      "source": [
        "<a href=\"https://colab.research.google.com/github/jaymalak/Capstone1/blob/master/translation_try.ipynb\" target=\"_parent\"><img src=\"https://colab.research.google.com/assets/colab-badge.svg\" alt=\"Open In Colab\"/></a>"
      ]
    },
    {
      "cell_type": "code",
      "metadata": {
        "id": "-zCN6CDAjP8I",
        "colab_type": "code",
        "outputId": "036fa2d1-1bf1-4c28-81ce-e1030fbb8c7f",
        "colab": {
          "base_uri": "https://localhost:8080/",
          "height": 126
        }
      },
      "source": [
        "!pip install googletrans"
      ],
      "execution_count": 18,
      "outputs": [
        {
          "output_type": "stream",
          "text": [
            "Requirement already satisfied: googletrans in /usr/local/lib/python3.6/dist-packages (2.4.0)\n",
            "Requirement already satisfied: requests in /usr/local/lib/python3.6/dist-packages (from googletrans) (2.21.0)\n",
            "Requirement already satisfied: chardet<3.1.0,>=3.0.2 in /usr/local/lib/python3.6/dist-packages (from requests->googletrans) (3.0.4)\n",
            "Requirement already satisfied: urllib3<1.25,>=1.21.1 in /usr/local/lib/python3.6/dist-packages (from requests->googletrans) (1.24.3)\n",
            "Requirement already satisfied: idna<2.9,>=2.5 in /usr/local/lib/python3.6/dist-packages (from requests->googletrans) (2.8)\n",
            "Requirement already satisfied: certifi>=2017.4.17 in /usr/local/lib/python3.6/dist-packages (from requests->googletrans) (2019.11.28)\n"
          ],
          "name": "stdout"
        }
      ]
    },
    {
      "cell_type": "code",
      "metadata": {
        "id": "FVebOEwAjSK9",
        "colab_type": "code",
        "colab": {}
      },
      "source": [
        "# Language Translator\n",
        "from googletrans import Translator  # Import Translator module from googletrans package\n",
        "\n",
        "translator = Translator() # Create object of Translator."
      ],
      "execution_count": 0,
      "outputs": []
    },
    {
      "cell_type": "code",
      "metadata": {
        "id": "XJBH7GFajVaX",
        "colab_type": "code",
        "colab": {}
      },
      "source": [
        "translated = translator.translate('小米') \n",
        "\n",
        "# Source language auto detect by google trans\n",
        "# By default destination language is English"
      ],
      "execution_count": 0,
      "outputs": []
    },
    {
      "cell_type": "code",
      "metadata": {
        "id": "-h69Xe2yjpf8",
        "colab_type": "code",
        "outputId": "ed206ca0-732b-45ba-dd26-bc61b8664960",
        "colab": {
          "base_uri": "https://localhost:8080/",
          "height": 54
        }
      },
      "source": [
        "print(\" Source Language:\" + translated.src) \n",
        "# Output: Source Language: ko\n",
        "\n",
        "print(\" Translated string:\" + translated.text)\n",
        "# Output: Translated string: Good evening"
      ],
      "execution_count": 21,
      "outputs": [
        {
          "output_type": "stream",
          "text": [
            " Source Language:zh-CN\n",
            " Translated string:Millet\n"
          ],
          "name": "stdout"
        }
      ]
    },
    {
      "cell_type": "code",
      "metadata": {
        "id": "bqELMaH1jtLs",
        "colab_type": "code",
        "outputId": "aefd1067-c9db-427c-c2d6-b3ac5cc8dd2f",
        "colab": {
          "base_uri": "https://localhost:8080/",
          "height": 35
        }
      },
      "source": [
        "translated = translator.translate('小米', src='zh-CN') # Pass only source language\n",
        "print(translated)\n",
        "translated = translator.translate('안녕하세요', dest='en') # Pass only destination language\n",
        "translated = translator.translate('안녕하세요', src='zh-CN', dest='en') # Pass both source and destination"
      ],
      "execution_count": 0,
      "outputs": [
        {
          "output_type": "stream",
          "text": [
            "Translated(src=zh-CN, dest=en, text=Millet, pronunciation=None, extra_data=\"{'translat...\")\n"
          ],
          "name": "stdout"
        }
      ]
    },
    {
      "cell_type": "code",
      "metadata": {
        "id": "yJfzUba-sJ4w",
        "colab_type": "code",
        "colab": {}
      },
      "source": [
        "import pandas as pd"
      ],
      "execution_count": 0,
      "outputs": []
    },
    {
      "cell_type": "code",
      "metadata": {
        "id": "UKL8bDzajxxG",
        "colab_type": "code",
        "colab": {}
      },
      "source": [
        "##translatedList = translator.translate(['首云', '酷珀', '欧乐迪', '诺亚信', '长虹', '先锋', '摩乐', '奥克斯', '华硕', '尼比鲁', '智镁', '诺基亚', '鲜米', '惠普', '天语', '瑞米', '神舟', '糯米', '艾优尼', '白米', '努比亚', '金星数码', '凯利通', '斐讯', 'Lovme', '沃普丰', '帷幄', 'LG', '欧比', '聆韵', '糖葫芦', 'LOGO', '唯比', '富可视', '奇酷', '普耐尔', '德赛', '联想 ', '海尔', '百加', '飞秒', 'PPTV', '广信', '瑞高', '海信', 'OPPO', '朵唯', '百立丰', '谷歌', 'MIL', '青橙', '世纪星', '易派', '三星', '青葱', 'ZUK', '大显', '美图', '邦华', '宝捷讯', '康佳', '黑米', '亿通', '魅族', '酷比', 'HTC', '酷派', '乡米', '摩托罗拉', '梦米', '唯米', 'TCL', '基伍', '爱派尔', '一加', '恒宇丰', '米歌', '至尊宝', '夏新', '优米', 'E派', '波导', '昂达', '本为', '优购', '飞利浦', '纽曼', '赛博宇华', '优语', '欧奇', '华为', '虾米', '蓝魔', 'E人E本', '大Q', '乐视', '果米', '小杨树', '欧新', '台电', 'vivo', '欧沃', '西米', '丰米', '欧博信', '酷比魔方', 'SUGAR', '锤子', '西门子', '维图', '米奇', '小米', '大可乐', '语信', '贝尔丰', '中国移动'}\n",
        "  ##                                     'Hello Friends','Welcome on Codeproject',\n",
        "##'Have a good day'], dest='ja')\n",
        "d = []\n",
        "translatedList = translator.translate(['首云', '酷珀', '欧乐迪', '诺亚信', '长虹', '先锋', '摩乐', '奥克斯', '华硕', '尼比鲁', '智镁', '诺基亚', '鲜米', \n",
        "                                       '惠普', '天语', '瑞米', '神舟', '糯米', '艾优尼', '白米', '努比亚', '金星数码', '凯利通', '斐讯', 'Lovme', '沃普丰', \n",
        "                                       '帷幄', 'LG', '欧比', '聆韵', '糖葫芦', 'LOGO', '唯比', '富可视', '奇酷', '普耐尔', '德赛', '联想 ', '海尔', '百加', \n",
        "                                       '飞秒', 'PPTV', '广信', '瑞高', '海信', 'OPPO', '朵唯', '百立丰', '谷歌', 'MIL', '青橙', '世纪星', '易派', '三星', \n",
        "                                       '青葱', 'ZUK', '大显', '美图', '邦华', '宝捷讯', '康佳', '黑米', '亿通', '魅族', '酷比', 'HTC', '酷派', '乡米', \n",
        "                                       '摩托罗拉', '梦米', '唯米', 'TCL', '基伍', '爱派尔', '一加', '恒宇丰', '米歌', '至尊宝', '夏新', '优米', 'E派', '波导', \n",
        "                                       '昂达', '本为', '优购', '飞利浦', '纽曼', '赛博宇华', '优语', '欧奇', '华为', '虾米', '蓝魔', 'E人E本', '大Q', '乐视', \n",
        "                                       '果米', '小杨树', '欧新', '台电', 'vivo', '欧沃', '西米', '丰米', '欧博信', '酷比魔方', 'SUGAR', '锤子', '西门子', '维图',\n",
        "                                       '米奇', '小米', '大可乐', '语信', '贝尔丰', '中国移动'])\n",
        "\n",
        "for translated in translatedList:\n",
        "     d.append({'brand': translated.origin, 'converted_brand':translated.text})\n",
        "     \n",
        "\n",
        "df1 = pd.DataFrame(data=d)\n",
        "    "
      ],
      "execution_count": 0,
      "outputs": []
    },
    {
      "cell_type": "code",
      "metadata": {
        "id": "J6xjxN4rvP39",
        "colab_type": "code",
        "colab": {
          "base_uri": "https://localhost:8080/",
          "height": 407
        },
        "outputId": "4fdfa048-3e63-451e-b75d-5a214825458c"
      },
      "source": [
        "df1"
      ],
      "execution_count": 27,
      "outputs": [
        {
          "output_type": "execute_result",
          "data": {
            "text/html": [
              "<div>\n",
              "<style scoped>\n",
              "    .dataframe tbody tr th:only-of-type {\n",
              "        vertical-align: middle;\n",
              "    }\n",
              "\n",
              "    .dataframe tbody tr th {\n",
              "        vertical-align: top;\n",
              "    }\n",
              "\n",
              "    .dataframe thead th {\n",
              "        text-align: right;\n",
              "    }\n",
              "</style>\n",
              "<table border=\"1\" class=\"dataframe\">\n",
              "  <thead>\n",
              "    <tr style=\"text-align: right;\">\n",
              "      <th></th>\n",
              "      <th>brand</th>\n",
              "      <th>converted_brand</th>\n",
              "    </tr>\n",
              "  </thead>\n",
              "  <tbody>\n",
              "    <tr>\n",
              "      <th>0</th>\n",
              "      <td>首云</td>\n",
              "      <td>Shouyun</td>\n",
              "    </tr>\n",
              "    <tr>\n",
              "      <th>1</th>\n",
              "      <td>酷珀</td>\n",
              "      <td>Koku珀</td>\n",
              "    </tr>\n",
              "    <tr>\n",
              "      <th>2</th>\n",
              "      <td>欧乐迪</td>\n",
              "      <td>Oral-Di</td>\n",
              "    </tr>\n",
              "    <tr>\n",
              "      <th>3</th>\n",
              "      <td>诺亚信</td>\n",
              "      <td>Noah letter</td>\n",
              "    </tr>\n",
              "    <tr>\n",
              "      <th>4</th>\n",
              "      <td>长虹</td>\n",
              "      <td>Changhong</td>\n",
              "    </tr>\n",
              "    <tr>\n",
              "      <th>...</th>\n",
              "      <td>...</td>\n",
              "      <td>...</td>\n",
              "    </tr>\n",
              "    <tr>\n",
              "      <th>111</th>\n",
              "      <td>小米</td>\n",
              "      <td>Millet</td>\n",
              "    </tr>\n",
              "    <tr>\n",
              "      <th>112</th>\n",
              "      <td>大可乐</td>\n",
              "      <td>Big Cola</td>\n",
              "    </tr>\n",
              "    <tr>\n",
              "      <th>113</th>\n",
              "      <td>语信</td>\n",
              "      <td>Language letter</td>\n",
              "    </tr>\n",
              "    <tr>\n",
              "      <th>114</th>\n",
              "      <td>贝尔丰</td>\n",
              "      <td>Bellefonte</td>\n",
              "    </tr>\n",
              "    <tr>\n",
              "      <th>115</th>\n",
              "      <td>中国移动</td>\n",
              "      <td>China Mobile</td>\n",
              "    </tr>\n",
              "  </tbody>\n",
              "</table>\n",
              "<p>116 rows × 2 columns</p>\n",
              "</div>"
            ],
            "text/plain": [
              "    brand  converted_brand\n",
              "0      首云          Shouyun\n",
              "1      酷珀            Koku珀\n",
              "2     欧乐迪          Oral-Di\n",
              "3     诺亚信      Noah letter\n",
              "4      长虹        Changhong\n",
              "..    ...              ...\n",
              "111    小米           Millet\n",
              "112   大可乐         Big Cola\n",
              "113    语信  Language letter\n",
              "114   贝尔丰       Bellefonte\n",
              "115  中国移动     China Mobile\n",
              "\n",
              "[116 rows x 2 columns]"
            ]
          },
          "metadata": {
            "tags": []
          },
          "execution_count": 27
        }
      ]
    },
    {
      "cell_type": "code",
      "metadata": {
        "id": "iGSwPKDLk37u",
        "colab_type": "code",
        "colab": {}
      },
      "source": [
        "detected = translator.detect('小米')"
      ],
      "execution_count": 0,
      "outputs": []
    },
    {
      "cell_type": "code",
      "metadata": {
        "id": "asYaJibdkKt6",
        "colab_type": "code",
        "colab": {
          "base_uri": "https://localhost:8080/",
          "height": 35
        },
        "outputId": "20b426d5-e5d4-4414-9d01-74fa29189fea"
      },
      "source": [
        "print('Detected Language:', detected.lang, ' with confidence: ', detected.confidence)\n",
        "\n",
        "# Detected Language: ja  with confidence:  1"
      ],
      "execution_count": 29,
      "outputs": [
        {
          "output_type": "stream",
          "text": [
            "Detected Language: zh-CN  with confidence:  1.0\n"
          ],
          "name": "stdout"
        }
      ]
    },
    {
      "cell_type": "code",
      "metadata": {
        "id": "IeRiQtW_0SBd",
        "colab_type": "code",
        "colab": {}
      },
      "source": [
        ""
      ],
      "execution_count": 0,
      "outputs": []
    }
  ]
}