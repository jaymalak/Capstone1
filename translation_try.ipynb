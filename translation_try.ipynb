{
  "nbformat": 4,
  "nbformat_minor": 0,
  "metadata": {
    "colab": {
      "name": "translation_try.ipynb",
      "provenance": [],
      "collapsed_sections": [],
      "authorship_tag": "ABX9TyM4czc4OptV1NJk08IfWvTS",
      "include_colab_link": true
    },
    "kernelspec": {
      "name": "python3",
      "display_name": "Python 3"
    }
  },
  "cells": [
    {
      "cell_type": "markdown",
      "metadata": {
        "id": "view-in-github",
        "colab_type": "text"
      },
      "source": [
        "<a href=\"https://colab.research.google.com/github/jaymalak/Capstone1/blob/master/translation_try.ipynb\" target=\"_parent\"><img src=\"https://colab.research.google.com/assets/colab-badge.svg\" alt=\"Open In Colab\"/></a>"
      ]
    },
    {
      "cell_type": "code",
      "metadata": {
        "id": "-zCN6CDAjP8I",
        "colab_type": "code",
        "colab": {
          "base_uri": "https://localhost:8080/",
          "height": 187
        },
        "outputId": "1915feda-cc78-4064-9b6b-4eaa3b18c461"
      },
      "source": [
        "!pip install googletrans"
      ],
      "execution_count": 1,
      "outputs": [
        {
          "output_type": "stream",
          "text": [
            "Collecting googletrans\n",
            "  Downloading https://files.pythonhosted.org/packages/fd/f0/a22d41d3846d1f46a4f20086141e0428ccc9c6d644aacbfd30990cf46886/googletrans-2.4.0.tar.gz\n",
            "Requirement already satisfied: requests in /usr/local/lib/python3.6/dist-packages (from googletrans) (2.21.0)\n",
            "Requirement already satisfied: certifi>=2017.4.17 in /usr/local/lib/python3.6/dist-packages (from requests->googletrans) (2019.11.28)\n",
            "Requirement already satisfied: urllib3<1.25,>=1.21.1 in /usr/local/lib/python3.6/dist-packages (from requests->googletrans) (1.24.3)\n",
            "Requirement already satisfied: idna<2.9,>=2.5 in /usr/local/lib/python3.6/dist-packages (from requests->googletrans) (2.8)\n",
            "Requirement already satisfied: chardet<3.1.0,>=3.0.2 in /usr/local/lib/python3.6/dist-packages (from requests->googletrans) (3.0.4)\n",
            "Building wheels for collected packages: googletrans\n",
            "Installing collected packages: googletrans\n",
            "Successfully installed googletrans-2.4.0\n"
          ],
          "name": "stdout"
        }
      ]
    },
    {
      "cell_type": "code",
      "metadata": {
        "id": "FVebOEwAjSK9",
        "colab_type": "code",
        "colab": {}
      },
      "source": [
        "# Language Translator\n",
        "from googletrans import Translator  # Import Translator module from googletrans package\n",
        "\n",
        "translator = Translator() # Create object of Translator."
      ],
      "execution_count": 0,
      "outputs": []
    },
    {
      "cell_type": "code",
      "metadata": {
        "id": "2SyEgjF_0K0n",
        "colab_type": "code",
        "colab": {}
      },
      "source": [
        ""
      ],
      "execution_count": 0,
      "outputs": []
    },
    {
      "cell_type": "code",
      "metadata": {
        "id": "XJBH7GFajVaX",
        "colab_type": "code",
        "colab": {}
      },
      "source": [
        "translated = translator.translate('小米') \n",
        "\n",
        "# Source language auto detect by google trans\n",
        "# By default destination language is English"
      ],
      "execution_count": 0,
      "outputs": []
    },
    {
      "cell_type": "code",
      "metadata": {
        "id": "-h69Xe2yjpf8",
        "colab_type": "code",
        "colab": {
          "base_uri": "https://localhost:8080/",
          "height": 51
        },
        "outputId": "fc93dc1b-1287-4c9f-a43a-d23eabb88100"
      },
      "source": [
        "print(\" Source Language:\" + translated.src) \n",
        "# Output: Source Language: ko\n",
        "\n",
        "print(\" Translated string:\" + translated.text)\n",
        "# Output: Translated string: Good evening"
      ],
      "execution_count": 15,
      "outputs": [
        {
          "output_type": "stream",
          "text": [
            " Source Language:zh-CN\n",
            " Translated string:Millet\n"
          ],
          "name": "stdout"
        }
      ]
    },
    {
      "cell_type": "code",
      "metadata": {
        "id": "bqELMaH1jtLs",
        "colab_type": "code",
        "colab": {
          "base_uri": "https://localhost:8080/",
          "height": 34
        },
        "outputId": "a342f770-0eac-4ddf-869a-10b501922afb"
      },
      "source": [
        "translated = translator.translate('小米', src='zh-CN') # Pass only source language\n",
        "print(translated)\n",
        "translated = translator.translate('안녕하세요', dest='en') # Pass only destination language\n",
        "translated = translator.translate('안녕하세요', src='zh-CN', dest='en') # Pass both source and destination"
      ],
      "execution_count": 21,
      "outputs": [
        {
          "output_type": "stream",
          "text": [
            "Translated(src=zh-CN, dest=en, text=Millet, pronunciation=None, extra_data=\"{'translat...\")\n"
          ],
          "name": "stdout"
        }
      ]
    },
    {
      "cell_type": "code",
      "metadata": {
        "id": "yJfzUba-sJ4w",
        "colab_type": "code",
        "colab": {}
      },
      "source": [
        "import pandas as pd"
      ],
      "execution_count": 0,
      "outputs": []
    },
    {
      "cell_type": "code",
      "metadata": {
        "id": "UKL8bDzajxxG",
        "colab_type": "code",
        "colab": {
          "base_uri": "https://localhost:8080/",
          "height": 1000
        },
        "outputId": "2c65399e-d224-40c4-c881-9b56466a9ca4"
      },
      "source": [
        "##translatedList = translator.translate(['首云', '酷珀', '欧乐迪', '诺亚信', '长虹', '先锋', '摩乐', '奥克斯', '华硕', '尼比鲁', '智镁', '诺基亚', '鲜米', '惠普', '天语', '瑞米', '神舟', '糯米', '艾优尼', '白米', '努比亚', '金星数码', '凯利通', '斐讯', 'Lovme', '沃普丰', '帷幄', 'LG', '欧比', '聆韵', '糖葫芦', 'LOGO', '唯比', '富可视', '奇酷', '普耐尔', '德赛', '联想 ', '海尔', '百加', '飞秒', 'PPTV', '广信', '瑞高', '海信', 'OPPO', '朵唯', '百立丰', '谷歌', 'MIL', '青橙', '世纪星', '易派', '三星', '青葱', 'ZUK', '大显', '美图', '邦华', '宝捷讯', '康佳', '黑米', '亿通', '魅族', '酷比', 'HTC', '酷派', '乡米', '摩托罗拉', '梦米', '唯米', 'TCL', '基伍', '爱派尔', '一加', '恒宇丰', '米歌', '至尊宝', '夏新', '优米', 'E派', '波导', '昂达', '本为', '优购', '飞利浦', '纽曼', '赛博宇华', '优语', '欧奇', '华为', '虾米', '蓝魔', 'E人E本', '大Q', '乐视', '果米', '小杨树', '欧新', '台电', 'vivo', '欧沃', '西米', '丰米', '欧博信', '酷比魔方', 'SUGAR', '锤子', '西门子', '维图', '米奇', '小米', '大可乐', '语信', '贝尔丰', '中国移动'}\n",
        "  ##                                     'Hello Friends','Welcome on Codeproject',\n",
        "##'Have a good day'], dest='ja')\n",
        "\n",
        "translatedList = translator.translate(['首云', '酷珀', '欧乐迪', '诺亚信', '长虹', '先锋', '摩乐', '奥克斯', '华硕', '尼比鲁', '智镁', '诺基亚', '鲜米', \n",
        "                                       '惠普', '天语', '瑞米', '神舟', '糯米', '艾优尼', '白米', '努比亚', '金星数码', '凯利通', '斐讯', 'Lovme', '沃普丰', \n",
        "                                       '帷幄', 'LG', '欧比', '聆韵', '糖葫芦', 'LOGO', '唯比', '富可视', '奇酷', '普耐尔', '德赛', '联想 ', '海尔', '百加', \n",
        "                                       '飞秒', 'PPTV', '广信', '瑞高', '海信', 'OPPO', '朵唯', '百立丰', '谷歌', 'MIL', '青橙', '世纪星', '易派', '三星', \n",
        "                                       '青葱', 'ZUK', '大显', '美图', '邦华', '宝捷讯', '康佳', '黑米', '亿通', '魅族', '酷比', 'HTC', '酷派', '乡米', \n",
        "                                       '摩托罗拉', '梦米', '唯米', 'TCL', '基伍', '爱派尔', '一加', '恒宇丰', '米歌', '至尊宝', '夏新', '优米', 'E派', '波导', \n",
        "                                       '昂达', '本为', '优购', '飞利浦', '纽曼', '赛博宇华', '优语', '欧奇', '华为', '虾米', '蓝魔', 'E人E本', '大Q', '乐视', \n",
        "                                       '果米', '小杨树', '欧新', '台电', 'vivo', '欧沃', '西米', '丰米', '欧博信', '酷比魔方', 'SUGAR', '锤子', '西门子', '维图',\n",
        "                                       '米奇', '小米', '大可乐', '语信', '贝尔丰', '中国移动'])\n",
        "\n",
        "for translated in translatedList:\n",
        "      print(translated.origin, '->', translated.text)\n",
        "    \n",
        "#zh-CN\n",
        "\n",
        "# Output:\n",
        "# Hello Friends -> 皆さん、こんにちは\n",
        "# Welcome on Codeproject -> Codeprojectへようこそ\n",
        "# Have a good day -> 良い一日を過ごしてください"
      ],
      "execution_count": 27,
      "outputs": [
        {
          "output_type": "stream",
          "text": [
            "首云 -> Shouyun\n",
            "酷珀 -> Koku珀\n",
            "欧乐迪 -> Oral-Di\n",
            "诺亚信 -> Noah letter\n",
            "长虹 -> Changhong\n",
            "先锋 -> pioneer\n",
            "摩乐 -> Moroccan music\n",
            "奥克斯 -> Oakes\n",
            "华硕 -> ASUS\n",
            "尼比鲁 -> Ni Bilu\n",
            "智镁 -> Chi magnesium\n",
            "诺基亚 -> Nokia\n",
            "鲜米 -> Fresh rice\n",
            "惠普 -> Hewlett-Packard\n",
            "天语 -> Amagatarai\n",
            "瑞米 -> Remy\n",
            "神舟 -> Shenzhou\n",
            "糯米 -> Glutinous rice\n",
            "艾优尼 -> Ai Unocal\n",
            "白米 -> Polished rice\n",
            "努比亚 -> Nubian\n",
            "金星数码 -> Venus Digital\n",
            "凯利通 -> Kelly pass\n",
            "斐讯 -> Fiji News\n",
            "Lovme -> Lovme\n",
            "沃普丰 -> Feng Wopu\n",
            "帷幄 -> Weiwo\n",
            "LG -> LG\n",
            "欧比 -> Obi\n",
            "聆韵 -> Ling Yun\n",
            "糖葫芦 -> Candied fruit\n",
            "LOGO -> LOGO\n",
            "唯比 -> CD ratio\n",
            "富可视 -> InFocus\n",
            "奇酷 -> Cool odd\n",
            "普耐尔 -> P Nair\n",
            "德赛 -> Desai\n",
            "联想  -> Associate\n",
            "海尔 -> Haier\n",
            "百加 -> Bacardi\n",
            "飞秒 -> Femtosecond\n",
            "PPTV -> PPTV\n",
            "广信 -> Widely believed\n",
            "瑞高 -> Swiss high\n",
            "海信 -> Hisense\n",
            "OPPO -> OPPO\n",
            "朵唯 -> Duo CD\n",
            "百立丰 -> One hundred Li & Fung\n",
            "谷歌 -> Google\n",
            "MIL -> THOUSAND\n",
            "青橙 -> Green Orange\n",
            "世纪星 -> Century Star\n",
            "易派 -> Easy to send\n",
            "三星 -> Samsung\n",
            "青葱 -> Scallion\n",
            "ZUK -> YOU\n",
            "大显 -> Daxian\n",
            "美图 -> Mito\n",
            "邦华 -> Banghua\n",
            "宝捷讯 -> Po JNC\n",
            "康佳 -> Konka\n",
            "黑米 -> black rice\n",
            "亿通 -> 亿通\n",
            "魅族 -> Meizu\n",
            "酷比 -> Doo\n",
            "HTC -> HTC\n",
            "酷派 -> Cool\n",
            "乡米 -> Township meters\n",
            "摩托罗拉 -> Motorola\n",
            "梦米 -> Dream meters\n",
            "唯米 -> Only meters\n",
            "TCL -> TCL\n",
            "基伍 -> Kivu\n",
            "爱派尔 -> Love Pyle\n",
            "一加 -> A plus\n",
            "恒宇丰 -> Feng Kou\n",
            "米歌 -> M song\n",
            "至尊宝 -> Monkey King\n",
            "夏新 -> Amoi\n",
            "优米 -> Quality rice\n",
            "E派 -> E school\n",
            "波导 -> waveguide\n",
            "昂达 -> Onda\n",
            "本为 -> This is\n",
            "优购 -> Excellent shopping\n",
            "飞利浦 -> Philips\n",
            "纽曼 -> Newman\n",
            "赛博宇华 -> Cyber ​​Yu Hua\n",
            "优语 -> Excellent language\n",
            "欧奇 -> Ouqi\n",
            "华为 -> Huawei\n",
            "虾米 -> Shrimp\n",
            "蓝魔 -> Blue demon\n",
            "E人E本 -> E man E\n",
            "大Q -> Big Q\n",
            "乐视 -> TV Plus\n",
            "果米 -> If the meter\n",
            "小杨树 -> Small poplar\n",
            "欧新 -> Ou\n",
            "台电 -> Taipower\n",
            "vivo -> vivo\n",
            "欧沃 -> Ouwo\n",
            "西米 -> Simi\n",
            "丰米 -> Feng meters\n",
            "欧博信 -> O'Brien letter\n",
            "酷比魔方 -> CUBE\n",
            "SUGAR -> SUGAR\n",
            "锤子 -> hammer\n",
            "西门子 -> Siemens\n",
            "维图 -> Dimensional map\n",
            "米奇 -> Mickey\n",
            "小米 -> Millet\n",
            "大可乐 -> Big Cola\n",
            "语信 -> Language letter\n",
            "贝尔丰 -> Bellefonte\n",
            "中国移动 -> China Mobile\n"
          ],
          "name": "stdout"
        }
      ]
    },
    {
      "cell_type": "code",
      "metadata": {
        "id": "PIJFTCVYo_Du",
        "colab_type": "code",
        "colab": {
          "base_uri": "https://localhost:8080/",
          "height": 214
        },
        "outputId": "71c1fe9c-23ef-4c56-83c7-4dc83a8176e0"
      },
      "source": [
        "translatedList = translator.translate(phone_brand[brand])\n",
        "\n",
        "for translated in translatedList:\n",
        "           print(translated.origin, '->', translated.text)\n"
      ],
      "execution_count": 26,
      "outputs": [
        {
          "output_type": "error",
          "ename": "NameError",
          "evalue": "ignored",
          "traceback": [
            "\u001b[0;31m---------------------------------------------------------------------------\u001b[0m",
            "\u001b[0;31mNameError\u001b[0m                                 Traceback (most recent call last)",
            "\u001b[0;32m<ipython-input-26-513983186554>\u001b[0m in \u001b[0;36m<module>\u001b[0;34m()\u001b[0m\n\u001b[0;32m----> 1\u001b[0;31m \u001b[0mtranslatedList\u001b[0m \u001b[0;34m=\u001b[0m \u001b[0mtranslator\u001b[0m\u001b[0;34m.\u001b[0m\u001b[0mtranslate\u001b[0m\u001b[0;34m(\u001b[0m\u001b[0mphone_brand\u001b[0m\u001b[0;34m[\u001b[0m\u001b[0mbrand\u001b[0m\u001b[0;34m]\u001b[0m\u001b[0;34m)\u001b[0m\u001b[0;34m\u001b[0m\u001b[0;34m\u001b[0m\u001b[0m\n\u001b[0m\u001b[1;32m      2\u001b[0m \u001b[0;34m\u001b[0m\u001b[0m\n\u001b[1;32m      3\u001b[0m \u001b[0;32mfor\u001b[0m \u001b[0mtranslated\u001b[0m \u001b[0;32min\u001b[0m \u001b[0mtranslatedList\u001b[0m\u001b[0;34m:\u001b[0m\u001b[0;34m\u001b[0m\u001b[0;34m\u001b[0m\u001b[0m\n\u001b[1;32m      4\u001b[0m            \u001b[0mprint\u001b[0m\u001b[0;34m(\u001b[0m\u001b[0mtranslated\u001b[0m\u001b[0;34m.\u001b[0m\u001b[0morigin\u001b[0m\u001b[0;34m,\u001b[0m \u001b[0;34m'->'\u001b[0m\u001b[0;34m,\u001b[0m \u001b[0mtranslated\u001b[0m\u001b[0;34m.\u001b[0m\u001b[0mtext\u001b[0m\u001b[0;34m)\u001b[0m\u001b[0;34m\u001b[0m\u001b[0;34m\u001b[0m\u001b[0m\n",
            "\u001b[0;31mNameError\u001b[0m: name 'phone_brand' is not defined"
          ]
        }
      ]
    },
    {
      "cell_type": "code",
      "metadata": {
        "id": "iGSwPKDLk37u",
        "colab_type": "code",
        "colab": {}
      },
      "source": [
        "detected = translator.detect('小米')"
      ],
      "execution_count": 0,
      "outputs": []
    },
    {
      "cell_type": "code",
      "metadata": {
        "id": "asYaJibdkKt6",
        "colab_type": "code",
        "colab": {
          "base_uri": "https://localhost:8080/",
          "height": 34
        },
        "outputId": "3cb5da00-db30-437f-baaf-9f8fa1d70aeb"
      },
      "source": [
        "print('Detected Language:', detected.lang, ' with confidence: ', detected.confidence)\n",
        "\n",
        "# Detected Language: ja  with confidence:  1"
      ],
      "execution_count": 12,
      "outputs": [
        {
          "output_type": "stream",
          "text": [
            "Detected Language: zh-CN  with confidence:  1.0\n"
          ],
          "name": "stdout"
        }
      ]
    },
    {
      "cell_type": "code",
      "metadata": {
        "id": "fUHN3UnjkT4d",
        "colab_type": "code",
        "colab": {
          "base_uri": "https://localhost:8080/",
          "height": 1000
        },
        "outputId": "1730e458-d700-437a-f99c-c54316340218"
      },
      "source": [
        "translatedList = translator.translate(['首云', '酷珀', '欧乐迪', '诺亚信', '长虹', '先锋', '摩乐', '奥克斯', '华硕', '尼比鲁', '智镁', '诺基亚', '鲜米', \n",
        "                                       '惠普', '天语', '瑞米', '神舟', '糯米', '艾优尼', '白米', '努比亚', '金星数码', '凯利通', '斐讯', 'Lovme', '沃普丰', \n",
        "                                       '帷幄', 'LG', '欧比', '聆韵', '糖葫芦', 'LOGO', '唯比', '富可视', '奇酷', '普耐尔', '德赛', '联想 ', '海尔', '百加', \n",
        "                                       '飞秒', 'PPTV', '广信', '瑞高', '海信', 'OPPO', '朵唯', '百立丰', '谷歌', 'MIL', '青橙', '世纪星', '易派', '三星', \n",
        "                                       '青葱', 'ZUK', '大显', '美图', '邦华', '宝捷讯', '康佳', '黑米', '亿通', '魅族', '酷比', 'HTC', '酷派', '乡米', \n",
        "                                       '摩托罗拉', '梦米', '唯米', 'TCL', '基伍', '爱派尔', '一加', '恒宇丰', '米歌', '至尊宝', '夏新', '优米', 'E派', '波导', \n",
        "                                       '昂达', '本为', '优购', '飞利浦', '纽曼', '赛博宇华', '优语', '欧奇', '华为', '虾米', '蓝魔', 'E人E本', '大Q', '乐视', \n",
        "                                       '果米', '小杨树', '欧新', '台电', 'vivo', '欧沃', '西米', '丰米', '欧博信', '酷比魔方', 'SUGAR', '锤子', '西门子', '维图',\n",
        "                                       '米奇', '小米', '大可乐', '语信', '贝尔丰', '中国移动'])\n",
        "\n",
        "for translated in translatedList:\n",
        "      print(translated.origin, '->', translated.text)"
      ],
      "execution_count": 28,
      "outputs": [
        {
          "output_type": "stream",
          "text": [
            "首云 -> Shouyun\n",
            "酷珀 -> Koku珀\n",
            "欧乐迪 -> Oral-Di\n",
            "诺亚信 -> Noah letter\n",
            "长虹 -> Changhong\n",
            "先锋 -> pioneer\n",
            "摩乐 -> Moroccan music\n",
            "奥克斯 -> Oakes\n",
            "华硕 -> ASUS\n",
            "尼比鲁 -> Ni Bilu\n",
            "智镁 -> Chi magnesium\n",
            "诺基亚 -> Nokia\n",
            "鲜米 -> Fresh rice\n",
            "惠普 -> Hewlett-Packard\n",
            "天语 -> Amagatarai\n",
            "瑞米 -> Remy\n",
            "神舟 -> Shenzhou\n",
            "糯米 -> Glutinous rice\n",
            "艾优尼 -> Ai Unocal\n",
            "白米 -> Polished rice\n",
            "努比亚 -> Nubian\n",
            "金星数码 -> Venus Digital\n",
            "凯利通 -> Kelly pass\n",
            "斐讯 -> Fiji News\n",
            "Lovme -> Lovme\n",
            "沃普丰 -> Feng Wopu\n",
            "帷幄 -> Weiwo\n",
            "LG -> LG\n",
            "欧比 -> Obi\n",
            "聆韵 -> Ling Yun\n",
            "糖葫芦 -> Candied fruit\n",
            "LOGO -> LOGO\n",
            "唯比 -> CD ratio\n",
            "富可视 -> InFocus\n",
            "奇酷 -> Cool odd\n",
            "普耐尔 -> P Nair\n",
            "德赛 -> Desai\n",
            "联想  -> Associate\n",
            "海尔 -> Haier\n",
            "百加 -> Bacardi\n",
            "飞秒 -> Femtosecond\n",
            "PPTV -> PPTV\n",
            "广信 -> Widely believed\n",
            "瑞高 -> Swiss high\n",
            "海信 -> Hisense\n",
            "OPPO -> OPPO\n",
            "朵唯 -> Duo CD\n",
            "百立丰 -> One hundred Li & Fung\n",
            "谷歌 -> Google\n",
            "MIL -> THOUSAND\n",
            "青橙 -> Green Orange\n",
            "世纪星 -> Century Star\n",
            "易派 -> Easy to send\n",
            "三星 -> Samsung\n",
            "青葱 -> Scallion\n",
            "ZUK -> YOU\n",
            "大显 -> Daxian\n",
            "美图 -> Mito\n",
            "邦华 -> Banghua\n",
            "宝捷讯 -> Po JNC\n",
            "康佳 -> Konka\n",
            "黑米 -> black rice\n",
            "亿通 -> 亿通\n",
            "魅族 -> Meizu\n",
            "酷比 -> Doo\n",
            "HTC -> HTC\n",
            "酷派 -> Cool\n",
            "乡米 -> Township meters\n",
            "摩托罗拉 -> Motorola\n",
            "梦米 -> Dream meters\n",
            "唯米 -> Only meters\n",
            "TCL -> TCL\n",
            "基伍 -> Kivu\n",
            "爱派尔 -> Love Pyle\n",
            "一加 -> A plus\n",
            "恒宇丰 -> Feng Kou\n",
            "米歌 -> M song\n",
            "至尊宝 -> Monkey King\n",
            "夏新 -> Amoi\n",
            "优米 -> Quality rice\n",
            "E派 -> E school\n",
            "波导 -> waveguide\n",
            "昂达 -> Onda\n",
            "本为 -> This is\n",
            "优购 -> Excellent shopping\n",
            "飞利浦 -> Philips\n",
            "纽曼 -> Newman\n",
            "赛博宇华 -> Cyber ​​Yu Hua\n",
            "优语 -> Excellent language\n",
            "欧奇 -> Ouqi\n",
            "华为 -> Huawei\n",
            "虾米 -> Shrimp\n",
            "蓝魔 -> Blue demon\n",
            "E人E本 -> E man E\n",
            "大Q -> Big Q\n",
            "乐视 -> TV Plus\n",
            "果米 -> If the meter\n",
            "小杨树 -> Small poplar\n",
            "欧新 -> Ou\n",
            "台电 -> Taipower\n",
            "vivo -> vivo\n",
            "欧沃 -> Ouwo\n",
            "西米 -> Simi\n",
            "丰米 -> Feng meters\n",
            "欧博信 -> O'Brien letter\n",
            "酷比魔方 -> CUBE\n",
            "SUGAR -> SUGAR\n",
            "锤子 -> hammer\n",
            "西门子 -> Siemens\n",
            "维图 -> Dimensional map\n",
            "米奇 -> Mickey\n",
            "小米 -> Millet\n",
            "大可乐 -> Big Cola\n",
            "语信 -> Language letter\n",
            "贝尔丰 -> Bellefonte\n",
            "中国移动 -> China Mobile\n"
          ],
          "name": "stdout"
        }
      ]
    },
    {
      "cell_type": "code",
      "metadata": {
        "id": "IeRiQtW_0SBd",
        "colab_type": "code",
        "colab": {}
      },
      "source": [
        ""
      ],
      "execution_count": 0,
      "outputs": []
    }
  ]
}