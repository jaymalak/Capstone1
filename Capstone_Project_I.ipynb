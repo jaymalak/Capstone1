{
  "nbformat": 4,
  "nbformat_minor": 0,
  "metadata": {
    "colab": {
      "name": "Capstone_Project I.ipynb",
      "provenance": [],
      "collapsed_sections": [],
      "authorship_tag": "ABX9TyOtNzyLJ/7lPXhTpuc9MAWQ",
      "include_colab_link": true
    },
    "kernelspec": {
      "name": "python3",
      "display_name": "Python 3"
    }
  },
  "cells": [
    {
      "cell_type": "markdown",
      "metadata": {
        "id": "view-in-github",
        "colab_type": "text"
      },
      "source": [
        "<a href=\"https://colab.research.google.com/github/jaymalak/Capstone1/blob/master/Capstone_Project_I.ipynb\" target=\"_parent\"><img src=\"https://colab.research.google.com/assets/colab-badge.svg\" alt=\"Open In Colab\"/></a>"
      ]
    },
    {
      "cell_type": "code",
      "metadata": {
        "id": "cjzoZ1NpKpUB",
        "colab_type": "code",
        "colab": {
          "base_uri": "https://localhost:8080/",
          "height": 214
        },
        "outputId": "5021e86a-ab5d-44e5-b451-610e20b0ba71"
      },
      "source": [
        "!pip install mysql.connector"
      ],
      "execution_count": 6,
      "outputs": [
        {
          "output_type": "stream",
          "text": [
            "Collecting mysql.connector\n",
            "\u001b[?25l  Downloading https://files.pythonhosted.org/packages/28/04/e40098f3730e75bbe36a338926f566ea803550a34fb50535499f4fc4787a/mysql-connector-2.2.9.tar.gz (11.9MB)\n",
            "\u001b[K     |████████████████████████████████| 11.9MB 5.0MB/s \n",
            "\u001b[?25hBuilding wheels for collected packages: mysql.connector\n",
            "  Building wheel for mysql.connector (setup.py) ... \u001b[?25l\u001b[?25hdone\n",
            "  Created wheel for mysql.connector: filename=mysql_connector-2.2.9-cp36-cp36m-linux_x86_64.whl size=247949 sha256=8f7c3017df653be37c2a68a33c177b639c5d7a1a43e2c80bfb61addea8d4e9c6\n",
            "  Stored in directory: /root/.cache/pip/wheels/8c/83/a1/f8b6d4bb1bd6208bbde1608bbfa7557504bed9eaf2ecf8c175\n",
            "Successfully built mysql.connector\n",
            "Installing collected packages: mysql.connector\n",
            "Successfully installed mysql.connector\n"
          ],
          "name": "stdout"
        }
      ]
    },
    {
      "cell_type": "code",
      "metadata": {
        "id": "NL68arrim9d-",
        "colab_type": "code",
        "colab": {}
      },
      "source": [
        "import pandas as pd\n",
        "import numpy as np"
      ],
      "execution_count": 0,
      "outputs": []
    },
    {
      "cell_type": "code",
      "metadata": {
        "id": "vmiW00CVNjGF",
        "colab_type": "code",
        "colab": {}
      },
      "source": [
        "from mysql.connector import Error"
      ],
      "execution_count": 0,
      "outputs": []
    },
    {
      "cell_type": "code",
      "metadata": {
        "id": "InBbKaWPPOUG",
        "colab_type": "code",
        "colab": {}
      },
      "source": [
        "import mysql.connector"
      ],
      "execution_count": 0,
      "outputs": []
    },
    {
      "cell_type": "code",
      "metadata": {
        "id": "IHefDF6DNoIB",
        "colab_type": "code",
        "colab": {
          "base_uri": "https://localhost:8080/",
          "height": 52
        },
        "outputId": "2f5fa72e-3def-490f-9821-398286478a27"
      },
      "source": [
        "try:\n",
        "   connection = mysql.connector.connect(host='cpanel.insaid.co', database='Capstone1', user='student',password='student')\n",
        "\n",
        "   if connection.is_connected():\n",
        "     db_info = connection.get_server_info()\n",
        "     print(\"connected to MySQ Server version\", db_info)\n",
        "     sql_gender_age = \"select * from gender_age_train\"\n",
        "     sql_ph_brand = \"select * from phone_brand_device_model\"\n",
        "    \n",
        "     cursor = connection.cursor()\n",
        "     cursor.execute(sql_gender_age)\n",
        "     record = cursor.fetchall()\n",
        "     gender_age_train = pd.DataFrame(record)\n",
        "     \n",
        "     cursor.execute(sql_ph_brand)\n",
        "     record1 = cursor.fetchall()\n",
        "     phone_brand = pd.DataFrame(record1)\n",
        "\n",
        " \n",
        "except Error as e :\n",
        "  print (\"Error while connecting  to MySQL\", e)\n",
        "\n",
        "finally :\n",
        "  if (connection.is_connected()) :\n",
        "    cursor.close()\n",
        "    connection.close()\n",
        "    print(\"MySQL connection is closed\")"
      ],
      "execution_count": 43,
      "outputs": [
        {
          "output_type": "stream",
          "text": [
            "connected to MySQ Server version 5.6.46-cll-lve\n",
            "MySQL connection is closed\n"
          ],
          "name": "stdout"
        }
      ]
    },
    {
      "cell_type": "code",
      "metadata": {
        "id": "7mCkvDfde5G4",
        "colab_type": "code",
        "colab": {
          "base_uri": "https://localhost:8080/",
          "height": 34
        },
        "outputId": "6c77b82b-6ed8-4aa0-f3b6-cba526a73500"
      },
      "source": [
        "connection"
      ],
      "execution_count": 32,
      "outputs": [
        {
          "output_type": "execute_result",
          "data": {
            "text/plain": [
              "<mysql.connector.connection.MySQLConnection at 0x7f8a625f55c0>"
            ]
          },
          "metadata": {
            "tags": []
          },
          "execution_count": 32
        }
      ]
    },
    {
      "cell_type": "code",
      "metadata": {
        "id": "pOUjjReKdwVH",
        "colab_type": "code",
        "colab": {
          "base_uri": "https://localhost:8080/",
          "height": 197
        },
        "outputId": "fcbb7861-6e62-4bcc-adf4-656b21aee7d0"
      },
      "source": [
        "gender_age_train.head()"
      ],
      "execution_count": 45,
      "outputs": [
        {
          "output_type": "execute_result",
          "data": {
            "text/html": [
              "<div>\n",
              "<style scoped>\n",
              "    .dataframe tbody tr th:only-of-type {\n",
              "        vertical-align: middle;\n",
              "    }\n",
              "\n",
              "    .dataframe tbody tr th {\n",
              "        vertical-align: top;\n",
              "    }\n",
              "\n",
              "    .dataframe thead th {\n",
              "        text-align: right;\n",
              "    }\n",
              "</style>\n",
              "<table border=\"1\" class=\"dataframe\">\n",
              "  <thead>\n",
              "    <tr style=\"text-align: right;\">\n",
              "      <th></th>\n",
              "      <th>0</th>\n",
              "      <th>1</th>\n",
              "      <th>2</th>\n",
              "      <th>3</th>\n",
              "    </tr>\n",
              "  </thead>\n",
              "  <tbody>\n",
              "    <tr>\n",
              "      <th>0</th>\n",
              "      <td>-8076087639492063270</td>\n",
              "      <td>M</td>\n",
              "      <td>35</td>\n",
              "      <td>M32-38</td>\n",
              "    </tr>\n",
              "    <tr>\n",
              "      <th>1</th>\n",
              "      <td>-2897161552818060146</td>\n",
              "      <td>M</td>\n",
              "      <td>35</td>\n",
              "      <td>M32-38</td>\n",
              "    </tr>\n",
              "    <tr>\n",
              "      <th>2</th>\n",
              "      <td>-8260683887967679142</td>\n",
              "      <td>M</td>\n",
              "      <td>35</td>\n",
              "      <td>M32-38</td>\n",
              "    </tr>\n",
              "    <tr>\n",
              "      <th>3</th>\n",
              "      <td>-4938849341048082022</td>\n",
              "      <td>M</td>\n",
              "      <td>30</td>\n",
              "      <td>M29-31</td>\n",
              "    </tr>\n",
              "    <tr>\n",
              "      <th>4</th>\n",
              "      <td>245133531816851882</td>\n",
              "      <td>M</td>\n",
              "      <td>30</td>\n",
              "      <td>M29-31</td>\n",
              "    </tr>\n",
              "  </tbody>\n",
              "</table>\n",
              "</div>"
            ],
            "text/plain": [
              "                     0  1   2       3\n",
              "0 -8076087639492063270  M  35  M32-38\n",
              "1 -2897161552818060146  M  35  M32-38\n",
              "2 -8260683887967679142  M  35  M32-38\n",
              "3 -4938849341048082022  M  30  M29-31\n",
              "4   245133531816851882  M  30  M29-31"
            ]
          },
          "metadata": {
            "tags": []
          },
          "execution_count": 45
        }
      ]
    },
    {
      "cell_type": "code",
      "metadata": {
        "id": "7Lb4v5kufy1V",
        "colab_type": "code",
        "colab": {
          "base_uri": "https://localhost:8080/",
          "height": 197
        },
        "outputId": "4961c273-4282-421f-bf36-b12424562034"
      },
      "source": [
        "phone_brand.head()"
      ],
      "execution_count": 38,
      "outputs": [
        {
          "output_type": "execute_result",
          "data": {
            "text/html": [
              "<div>\n",
              "<style scoped>\n",
              "    .dataframe tbody tr th:only-of-type {\n",
              "        vertical-align: middle;\n",
              "    }\n",
              "\n",
              "    .dataframe tbody tr th {\n",
              "        vertical-align: top;\n",
              "    }\n",
              "\n",
              "    .dataframe thead th {\n",
              "        text-align: right;\n",
              "    }\n",
              "</style>\n",
              "<table border=\"1\" class=\"dataframe\">\n",
              "  <thead>\n",
              "    <tr style=\"text-align: right;\">\n",
              "      <th></th>\n",
              "      <th>0</th>\n",
              "      <th>1</th>\n",
              "      <th>2</th>\n",
              "    </tr>\n",
              "  </thead>\n",
              "  <tbody>\n",
              "    <tr>\n",
              "      <th>0</th>\n",
              "      <td>1877775838486905855</td>\n",
              "      <td>vivo</td>\n",
              "      <td>Y13</td>\n",
              "    </tr>\n",
              "    <tr>\n",
              "      <th>1</th>\n",
              "      <td>-3766087376657242966</td>\n",
              "      <td>小米</td>\n",
              "      <td>V183</td>\n",
              "    </tr>\n",
              "    <tr>\n",
              "      <th>2</th>\n",
              "      <td>-6238937574958215831</td>\n",
              "      <td>OPPO</td>\n",
              "      <td>R7s</td>\n",
              "    </tr>\n",
              "    <tr>\n",
              "      <th>3</th>\n",
              "      <td>8973197758510677470</td>\n",
              "      <td>三星</td>\n",
              "      <td>A368t</td>\n",
              "    </tr>\n",
              "    <tr>\n",
              "      <th>4</th>\n",
              "      <td>-2015528097870762664</td>\n",
              "      <td>小米</td>\n",
              "      <td>红米Note2</td>\n",
              "    </tr>\n",
              "  </tbody>\n",
              "</table>\n",
              "</div>"
            ],
            "text/plain": [
              "                     0     1        2\n",
              "0  1877775838486905855  vivo      Y13\n",
              "1 -3766087376657242966    小米     V183\n",
              "2 -6238937574958215831  OPPO      R7s\n",
              "3  8973197758510677470    三星    A368t\n",
              "4 -2015528097870762664    小米  红米Note2"
            ]
          },
          "metadata": {
            "tags": []
          },
          "execution_count": 38
        }
      ]
    },
    {
      "cell_type": "code",
      "metadata": {
        "id": "WgycUVFBd90t",
        "colab_type": "code",
        "colab": {
          "base_uri": "https://localhost:8080/",
          "height": 176
        },
        "outputId": "6ca21199-87af-4257-b501-726fd0d3c204"
      },
      "source": [
        "gender_age_train.info()"
      ],
      "execution_count": 47,
      "outputs": [
        {
          "output_type": "stream",
          "text": [
            "<class 'pandas.core.frame.DataFrame'>\n",
            "RangeIndex: 74645 entries, 0 to 74644\n",
            "Data columns (total 4 columns):\n",
            "0    74645 non-null int64\n",
            "1    74645 non-null object\n",
            "2    74645 non-null int64\n",
            "3    74645 non-null object\n",
            "dtypes: int64(2), object(2)\n",
            "memory usage: 2.3+ MB\n"
          ],
          "name": "stdout"
        }
      ]
    },
    {
      "cell_type": "code",
      "metadata": {
        "id": "L3TylFO_f28k",
        "colab_type": "code",
        "colab": {
          "base_uri": "https://localhost:8080/",
          "height": 158
        },
        "outputId": "1587c03d-b7ea-48ad-99db-bbd9e71a3651"
      },
      "source": [
        "phone_brand.info()"
      ],
      "execution_count": 39,
      "outputs": [
        {
          "output_type": "stream",
          "text": [
            "<class 'pandas.core.frame.DataFrame'>\n",
            "RangeIndex: 87726 entries, 0 to 87725\n",
            "Data columns (total 3 columns):\n",
            "0    87726 non-null int64\n",
            "1    87726 non-null object\n",
            "2    87726 non-null object\n",
            "dtypes: int64(1), object(2)\n",
            "memory usage: 2.0+ MB\n"
          ],
          "name": "stdout"
        }
      ]
    },
    {
      "cell_type": "code",
      "metadata": {
        "id": "fF49CDZYYfJq",
        "colab_type": "code",
        "colab": {
          "base_uri": "https://localhost:8080/",
          "height": 34
        },
        "outputId": "a5c27862-c371-4a80-9747-9d959baa5a90"
      },
      "source": [
        "gender_age_train.shape"
      ],
      "execution_count": 48,
      "outputs": [
        {
          "output_type": "execute_result",
          "data": {
            "text/plain": [
              "(74645, 4)"
            ]
          },
          "metadata": {
            "tags": []
          },
          "execution_count": 48
        }
      ]
    },
    {
      "cell_type": "code",
      "metadata": {
        "id": "fDqO4RtGYdC1",
        "colab_type": "code",
        "colab": {
          "base_uri": "https://localhost:8080/",
          "height": 34
        },
        "outputId": "4c15fb39-d797-4113-9f30-c5051e5b5bd5"
      },
      "source": [
        "phone_brand.shape"
      ],
      "execution_count": 42,
      "outputs": [
        {
          "output_type": "execute_result",
          "data": {
            "text/plain": [
              "(87726, 3)"
            ]
          },
          "metadata": {
            "tags": []
          },
          "execution_count": 42
        }
      ]
    },
    {
      "cell_type": "code",
      "metadata": {
        "id": "IRpm53JjlRlm",
        "colab_type": "code",
        "colab": {}
      },
      "source": [
        "from pydrive.auth import GoogleAuth\n",
        "from pydrive.drive import GoogleDrive\n",
        "from google.colab import auth\n",
        "from oauth2client.client import GoogleCredentials"
      ],
      "execution_count": 0,
      "outputs": []
    },
    {
      "cell_type": "code",
      "metadata": {
        "id": "rNWQPisygFAT",
        "colab_type": "code",
        "colab": {}
      },
      "source": [
        "# Authenticate and create the PyDrive client.\n",
        "auth.authenticate_user()\n",
        "gauth = GoogleAuth()\n",
        "gauth.credentials = GoogleCredentials.get_application_default()\n",
        "drive = GoogleDrive(gauth)"
      ],
      "execution_count": 0,
      "outputs": []
    },
    {
      "cell_type": "code",
      "metadata": {
        "id": "uAjQKMnxlLeK",
        "colab_type": "code",
        "colab": {
          "base_uri": "https://localhost:8080/",
          "height": 34
        },
        "outputId": "7a7587d1-fc5a-4b1e-da69-9c726c8580d5"
      },
      "source": [
        "link = 'https://drive.google.com/open?id=1ggM3ZXElSob6ZSzWaiNNT3SgiNDHGv6d' # The shareable link\n",
        "fluff, id = link.split('=')\n",
        "print (id) # Verify that you have everything after '='"
      ],
      "execution_count": 52,
      "outputs": [
        {
          "output_type": "stream",
          "text": [
            "1ggM3ZXElSob6ZSzWaiNNT3SgiNDHGv6d\n"
          ],
          "name": "stdout"
        }
      ]
    },
    {
      "cell_type": "code",
      "metadata": {
        "id": "SVC1NUYGlcmI",
        "colab_type": "code",
        "colab": {}
      },
      "source": [
        "downloaded = drive.CreateFile({'id':id}) \n",
        "downloaded.GetContentFile('events.csv')  \n",
        "events = pd.read_csv('events.csv')"
      ],
      "execution_count": 0,
      "outputs": []
    },
    {
      "cell_type": "code",
      "metadata": {
        "id": "gZ07OxOdzZGD",
        "colab_type": "code",
        "colab": {}
      },
      "source": [
        "pd.set_option('float_format', '{:f}'.format)"
      ],
      "execution_count": 0,
      "outputs": []
    },
    {
      "cell_type": "code",
      "metadata": {
        "id": "euGaRE98lflQ",
        "colab_type": "code",
        "colab": {
          "base_uri": "https://localhost:8080/",
          "height": 197
        },
        "outputId": "4c39cd6f-e31e-4bae-8320-a86fb25cf0a0"
      },
      "source": [
        "events.head()"
      ],
      "execution_count": 69,
      "outputs": [
        {
          "output_type": "execute_result",
          "data": {
            "text/html": [
              "<div>\n",
              "<style scoped>\n",
              "    .dataframe tbody tr th:only-of-type {\n",
              "        vertical-align: middle;\n",
              "    }\n",
              "\n",
              "    .dataframe tbody tr th {\n",
              "        vertical-align: top;\n",
              "    }\n",
              "\n",
              "    .dataframe thead th {\n",
              "        text-align: right;\n",
              "    }\n",
              "</style>\n",
              "<table border=\"1\" class=\"dataframe\">\n",
              "  <thead>\n",
              "    <tr style=\"text-align: right;\">\n",
              "      <th></th>\n",
              "      <th>event_id</th>\n",
              "      <th>device_id</th>\n",
              "      <th>timestamp</th>\n",
              "      <th>longitude</th>\n",
              "      <th>latitude</th>\n",
              "      <th>city</th>\n",
              "      <th>state</th>\n",
              "    </tr>\n",
              "  </thead>\n",
              "  <tbody>\n",
              "    <tr>\n",
              "      <th>0</th>\n",
              "      <td>1.000000</td>\n",
              "      <td>29182687948017176.000000</td>\n",
              "      <td>2016-05-01 00:55:25</td>\n",
              "      <td>77.266049</td>\n",
              "      <td>28.681610</td>\n",
              "      <td>Delhi</td>\n",
              "      <td>Delhi</td>\n",
              "    </tr>\n",
              "    <tr>\n",
              "      <th>1</th>\n",
              "      <td>7104.000000</td>\n",
              "      <td>29182687948017176.000000</td>\n",
              "      <td>2016-05-02 09:37:02</td>\n",
              "      <td>77.266049</td>\n",
              "      <td>28.681610</td>\n",
              "      <td>Delhi</td>\n",
              "      <td>Delhi</td>\n",
              "    </tr>\n",
              "    <tr>\n",
              "      <th>2</th>\n",
              "      <td>29661.000000</td>\n",
              "      <td>29182687948017176.000000</td>\n",
              "      <td>2016-05-04 00:56:04</td>\n",
              "      <td>77.266049</td>\n",
              "      <td>28.681610</td>\n",
              "      <td>Delhi</td>\n",
              "      <td>Delhi</td>\n",
              "    </tr>\n",
              "    <tr>\n",
              "      <th>3</th>\n",
              "      <td>33133.000000</td>\n",
              "      <td>29182687948017176.000000</td>\n",
              "      <td>2016-05-06 05:01:15</td>\n",
              "      <td>77.266049</td>\n",
              "      <td>28.681610</td>\n",
              "      <td>Delhi</td>\n",
              "      <td>Delhi</td>\n",
              "    </tr>\n",
              "    <tr>\n",
              "      <th>4</th>\n",
              "      <td>38980.000000</td>\n",
              "      <td>29182687948017176.000000</td>\n",
              "      <td>2016-05-06 09:55:04</td>\n",
              "      <td>77.266049</td>\n",
              "      <td>28.681610</td>\n",
              "      <td>Delhi</td>\n",
              "      <td>Delhi</td>\n",
              "    </tr>\n",
              "  </tbody>\n",
              "</table>\n",
              "</div>"
            ],
            "text/plain": [
              "      event_id                device_id  ...   city  state\n",
              "0     1.000000 29182687948017176.000000  ...  Delhi  Delhi\n",
              "1  7104.000000 29182687948017176.000000  ...  Delhi  Delhi\n",
              "2 29661.000000 29182687948017176.000000  ...  Delhi  Delhi\n",
              "3 33133.000000 29182687948017176.000000  ...  Delhi  Delhi\n",
              "4 38980.000000 29182687948017176.000000  ...  Delhi  Delhi\n",
              "\n",
              "[5 rows x 7 columns]"
            ]
          },
          "metadata": {
            "tags": []
          },
          "execution_count": 69
        }
      ]
    },
    {
      "cell_type": "code",
      "metadata": {
        "id": "suPUZbdcll23",
        "colab_type": "code",
        "colab": {
          "base_uri": "https://localhost:8080/",
          "height": 230
        },
        "outputId": "82e6a44a-aa08-44c4-d48f-abfe877fc6e2"
      },
      "source": [
        "events.info()"
      ],
      "execution_count": 55,
      "outputs": [
        {
          "output_type": "stream",
          "text": [
            "<class 'pandas.core.frame.DataFrame'>\n",
            "RangeIndex: 3252950 entries, 0 to 3252949\n",
            "Data columns (total 7 columns):\n",
            "event_id     float64\n",
            "device_id    float64\n",
            "timestamp    object\n",
            "longitude    float64\n",
            "latitude     float64\n",
            "city         object\n",
            "state        object\n",
            "dtypes: float64(4), object(3)\n",
            "memory usage: 173.7+ MB\n"
          ],
          "name": "stdout"
        }
      ]
    },
    {
      "cell_type": "code",
      "metadata": {
        "id": "YDj9BOgKlpJH",
        "colab_type": "code",
        "colab": {}
      },
      "source": [
        "gender_age_train.columns=['device_id','gender','age','age_group']"
      ],
      "execution_count": 0,
      "outputs": []
    },
    {
      "cell_type": "code",
      "metadata": {
        "id": "YITBg36Bm1_B",
        "colab_type": "code",
        "colab": {
          "base_uri": "https://localhost:8080/",
          "height": 197
        },
        "outputId": "6913aee5-f949-4a23-a354-0d71e7880632"
      },
      "source": [
        "gender_age_train.head()"
      ],
      "execution_count": 61,
      "outputs": [
        {
          "output_type": "execute_result",
          "data": {
            "text/html": [
              "<div>\n",
              "<style scoped>\n",
              "    .dataframe tbody tr th:only-of-type {\n",
              "        vertical-align: middle;\n",
              "    }\n",
              "\n",
              "    .dataframe tbody tr th {\n",
              "        vertical-align: top;\n",
              "    }\n",
              "\n",
              "    .dataframe thead th {\n",
              "        text-align: right;\n",
              "    }\n",
              "</style>\n",
              "<table border=\"1\" class=\"dataframe\">\n",
              "  <thead>\n",
              "    <tr style=\"text-align: right;\">\n",
              "      <th></th>\n",
              "      <th>device_id</th>\n",
              "      <th>gender</th>\n",
              "      <th>age</th>\n",
              "      <th>age_group</th>\n",
              "    </tr>\n",
              "  </thead>\n",
              "  <tbody>\n",
              "    <tr>\n",
              "      <th>0</th>\n",
              "      <td>-8076087639492063270</td>\n",
              "      <td>M</td>\n",
              "      <td>35</td>\n",
              "      <td>M32-38</td>\n",
              "    </tr>\n",
              "    <tr>\n",
              "      <th>1</th>\n",
              "      <td>-2897161552818060146</td>\n",
              "      <td>M</td>\n",
              "      <td>35</td>\n",
              "      <td>M32-38</td>\n",
              "    </tr>\n",
              "    <tr>\n",
              "      <th>2</th>\n",
              "      <td>-8260683887967679142</td>\n",
              "      <td>M</td>\n",
              "      <td>35</td>\n",
              "      <td>M32-38</td>\n",
              "    </tr>\n",
              "    <tr>\n",
              "      <th>3</th>\n",
              "      <td>-4938849341048082022</td>\n",
              "      <td>M</td>\n",
              "      <td>30</td>\n",
              "      <td>M29-31</td>\n",
              "    </tr>\n",
              "    <tr>\n",
              "      <th>4</th>\n",
              "      <td>245133531816851882</td>\n",
              "      <td>M</td>\n",
              "      <td>30</td>\n",
              "      <td>M29-31</td>\n",
              "    </tr>\n",
              "  </tbody>\n",
              "</table>\n",
              "</div>"
            ],
            "text/plain": [
              "             device_id gender  age age_group\n",
              "0 -8076087639492063270      M   35    M32-38\n",
              "1 -2897161552818060146      M   35    M32-38\n",
              "2 -8260683887967679142      M   35    M32-38\n",
              "3 -4938849341048082022      M   30    M29-31\n",
              "4   245133531816851882      M   30    M29-31"
            ]
          },
          "metadata": {
            "tags": []
          },
          "execution_count": 61
        }
      ]
    },
    {
      "cell_type": "code",
      "metadata": {
        "id": "I-oY1u3vnYIV",
        "colab_type": "code",
        "colab": {}
      },
      "source": [
        "phone_brand.columns=['device_id','brand','model']"
      ],
      "execution_count": 0,
      "outputs": []
    },
    {
      "cell_type": "code",
      "metadata": {
        "id": "PnttvEvanx6D",
        "colab_type": "code",
        "colab": {
          "base_uri": "https://localhost:8080/",
          "height": 197
        },
        "outputId": "ead98fc6-8585-417e-c969-0e74e485cb1d"
      },
      "source": [
        "phone_brand.head()"
      ],
      "execution_count": 64,
      "outputs": [
        {
          "output_type": "execute_result",
          "data": {
            "text/html": [
              "<div>\n",
              "<style scoped>\n",
              "    .dataframe tbody tr th:only-of-type {\n",
              "        vertical-align: middle;\n",
              "    }\n",
              "\n",
              "    .dataframe tbody tr th {\n",
              "        vertical-align: top;\n",
              "    }\n",
              "\n",
              "    .dataframe thead th {\n",
              "        text-align: right;\n",
              "    }\n",
              "</style>\n",
              "<table border=\"1\" class=\"dataframe\">\n",
              "  <thead>\n",
              "    <tr style=\"text-align: right;\">\n",
              "      <th></th>\n",
              "      <th>device_id</th>\n",
              "      <th>brand</th>\n",
              "      <th>model</th>\n",
              "    </tr>\n",
              "  </thead>\n",
              "  <tbody>\n",
              "    <tr>\n",
              "      <th>0</th>\n",
              "      <td>1877775838486905855</td>\n",
              "      <td>vivo</td>\n",
              "      <td>Y13</td>\n",
              "    </tr>\n",
              "    <tr>\n",
              "      <th>1</th>\n",
              "      <td>-3766087376657242966</td>\n",
              "      <td>小米</td>\n",
              "      <td>V183</td>\n",
              "    </tr>\n",
              "    <tr>\n",
              "      <th>2</th>\n",
              "      <td>-6238937574958215831</td>\n",
              "      <td>OPPO</td>\n",
              "      <td>R7s</td>\n",
              "    </tr>\n",
              "    <tr>\n",
              "      <th>3</th>\n",
              "      <td>8973197758510677470</td>\n",
              "      <td>三星</td>\n",
              "      <td>A368t</td>\n",
              "    </tr>\n",
              "    <tr>\n",
              "      <th>4</th>\n",
              "      <td>-2015528097870762664</td>\n",
              "      <td>小米</td>\n",
              "      <td>红米Note2</td>\n",
              "    </tr>\n",
              "  </tbody>\n",
              "</table>\n",
              "</div>"
            ],
            "text/plain": [
              "             device_id brand    model\n",
              "0  1877775838486905855  vivo      Y13\n",
              "1 -3766087376657242966    小米     V183\n",
              "2 -6238937574958215831  OPPO      R7s\n",
              "3  8973197758510677470    三星    A368t\n",
              "4 -2015528097870762664    小米  红米Note2"
            ]
          },
          "metadata": {
            "tags": []
          },
          "execution_count": 64
        }
      ]
    },
    {
      "cell_type": "code",
      "metadata": {
        "id": "C5TAMytsn0zm",
        "colab_type": "code",
        "colab": {
          "base_uri": "https://localhost:8080/",
          "height": 34
        },
        "outputId": "11c06b9f-7bf2-45dc-d98f-83a369c98456"
      },
      "source": [
        "gender_age_train.groupby(by='age_group')"
      ],
      "execution_count": 67,
      "outputs": [
        {
          "output_type": "execute_result",
          "data": {
            "text/plain": [
              "<pandas.core.groupby.generic.DataFrameGroupBy object at 0x7f8a5216ecc0>"
            ]
          },
          "metadata": {
            "tags": []
          },
          "execution_count": 67
        }
      ]
    },
    {
      "cell_type": "code",
      "metadata": {
        "id": "hdjDoPHcoDJC",
        "colab_type": "code",
        "colab": {
          "base_uri": "https://localhost:8080/",
          "height": 105
        },
        "outputId": "653bdac3-1d0e-43c7-eda7-44163c1e5926"
      },
      "source": [
        "#missing data in gender_age_train\n",
        "total = gender_age_train.isnull().sum().sort_values(ascending=False)\n",
        "percent = (gender_age_train.isnull().sum()/gender_age_train.isnull().count()).sort_values(ascending=False)\n",
        "missing_data_genderage = pd.concat([total, percent], axis=1, keys=['Total', 'Percent'])\n",
        "missing_data_genderage.head(20)\n",
        "print(missing_data_genderage)\n"
      ],
      "execution_count": 70,
      "outputs": [
        {
          "output_type": "stream",
          "text": [
            "           Total  Percent\n",
            "age_group      0 0.000000\n",
            "age            0 0.000000\n",
            "gender         0 0.000000\n",
            "device_id      0 0.000000\n"
          ],
          "name": "stdout"
        }
      ]
    },
    {
      "cell_type": "code",
      "metadata": {
        "id": "9MebUvZi0S33",
        "colab_type": "code",
        "colab": {
          "base_uri": "https://localhost:8080/",
          "height": 87
        },
        "outputId": "9d045142-99dc-4a87-cbd3-158e8b2c2029"
      },
      "source": [
        "##missing data in phone_brand\n",
        "total = phone_brand.isnull().sum().sort_values(ascending=False)\n",
        "percent = (phone_brand.isnull().sum()/phone_brand.isnull().count()).sort_values(ascending=False)\n",
        "missing_data_phoneband = pd.concat([total, percent], axis=1, keys=['Total', 'Percent'])\n",
        "missing_data_phoneband.head(20)\n",
        "print(missing_data_phoneband)\n"
      ],
      "execution_count": 71,
      "outputs": [
        {
          "output_type": "stream",
          "text": [
            "           Total  Percent\n",
            "model          0 0.000000\n",
            "brand          0 0.000000\n",
            "device_id      0 0.000000\n"
          ],
          "name": "stdout"
        }
      ]
    },
    {
      "cell_type": "code",
      "metadata": {
        "id": "b0tAGgth0qfe",
        "colab_type": "code",
        "colab": {
          "base_uri": "https://localhost:8080/",
          "height": 158
        },
        "outputId": "a0818918-b012-4082-b423-53388f52fa77"
      },
      "source": [
        "##missing data in events\n",
        "total = events.isnull().sum().sort_values(ascending=False)\n",
        "percent = (events.isnull().sum()/events.isnull().count()).sort_values(ascending=False)\n",
        "missing_data_events = pd.concat([total, percent], axis=1, keys=['Total', 'Percent'])\n",
        "missing_data_events.head(20)\n",
        "print(missing_data_events)"
      ],
      "execution_count": 72,
      "outputs": [
        {
          "output_type": "stream",
          "text": [
            "           Total  Percent\n",
            "device_id    453 0.000139\n",
            "latitude     423 0.000130\n",
            "longitude    423 0.000130\n",
            "state        377 0.000116\n",
            "city           0 0.000000\n",
            "timestamp      0 0.000000\n",
            "event_id       0 0.000000\n"
          ],
          "name": "stdout"
        }
      ]
    },
    {
      "cell_type": "markdown",
      "metadata": {
        "id": "zg4zip1V1Bbz",
        "colab_type": "text"
      },
      "source": [
        "##Observations :\n",
        "  1. Gender_age_train\n",
        "     1.1  NULL values not found\n",
        "  2. Phone_band\n",
        "     2.1 NULL values not found\n",
        "  3. events\n",
        "     3.1 Few Values found missing. Device_id = 453, Latitude = 423,Longitude=42,         state 377\n",
        "         "
      ]
    },
    {
      "cell_type": "code",
      "metadata": {
        "id": "RS29yL4R09X6",
        "colab_type": "code",
        "colab": {
          "base_uri": "https://localhost:8080/",
          "height": 141
        },
        "outputId": "6edc584a-9e18-417d-abab-fca7fb0fc5d6"
      },
      "source": [
        "gcount = gender_age_train.groupby('age')['age'].count().sort_values(ascending=True)\n",
        "gcount.head()"
      ],
      "execution_count": 82,
      "outputs": [
        {
          "output_type": "execute_result",
          "data": {
            "text/plain": [
              "age\n",
              "1     1\n",
              "90    1\n",
              "94    1\n",
              "96    1\n",
              "84    2\n",
              "Name: age, dtype: int64"
            ]
          },
          "metadata": {
            "tags": []
          },
          "execution_count": 82
        }
      ]
    },
    {
      "cell_type": "code",
      "metadata": {
        "id": "xh65c8DE3D1G",
        "colab_type": "code",
        "colab": {}
      },
      "source": [
        ""
      ],
      "execution_count": 0,
      "outputs": []
    }
  ]
}